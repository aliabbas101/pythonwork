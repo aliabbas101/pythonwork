{
 "cells": [
  {
   "cell_type": "markdown",
   "metadata": {},
   "source": [
    "<h1 style=\"color:white;background:rgba(255,50,50,0.8);padding:10px;border-radius:10px;text-align:center;\"> Matrices and Matrix Arithmetic using numpy -<sub>By Ali Abbas</sub></h1>"
   ]
  },
  {
   "cell_type": "code",
   "execution_count": 23,
   "metadata": {},
   "outputs": [
    {
     "data": {
      "text/plain": [
       "92"
      ]
     },
     "execution_count": 23,
     "metadata": {},
     "output_type": "execute_result"
    }
   ],
   "source": [
    "from numpy import array\n",
    "import numpy as np\n",
    "\n",
    "A=array([[1,2],\n",
    "        [4,5]])\n",
    "\n",
    "B=array([[1,2,3,4],\n",
    "        [4,5,6,5]])\n",
    "\n",
    "\n",
    "\n",
    "if(A.shape[1]==B.shape[0]):\n",
    "    C=A.dot(B)\n",
    "else:\n",
    "    print(\"Really Nigga\")\n",
    "    \n",
    "a=int(92.9)\n",
    "a"
   ]
  }
 ],
 "metadata": {
  "kernelspec": {
   "display_name": "Python 3",
   "language": "python",
   "name": "python3"
  },
  "language_info": {
   "codemirror_mode": {
    "name": "ipython",
    "version": 3
   },
   "file_extension": ".py",
   "mimetype": "text/x-python",
   "name": "python",
   "nbconvert_exporter": "python",
   "pygments_lexer": "ipython3",
   "version": "3.7.2"
  }
 },
 "nbformat": 4,
 "nbformat_minor": 2
}
