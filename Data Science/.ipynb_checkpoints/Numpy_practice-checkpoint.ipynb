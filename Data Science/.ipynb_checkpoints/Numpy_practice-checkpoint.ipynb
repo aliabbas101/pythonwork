{
 "cells": [
  {
   "cell_type": "markdown",
   "metadata": {},
   "source": [
    "<h1 style=\"color:white;background:rgba(255,50,50,0.8);padding:10px;border-radius:10px;text-align:center;\"> Vectors and Vector Arithmetic using numpy</h1>"
   ]
  },
  {
   "cell_type": "code",
   "execution_count": 20,
   "metadata": {},
   "outputs": [
    {
     "name": "stdout",
     "output_type": "stream",
     "text": [
      "[2 4 6]\n",
      "[0 0 0]\n",
      "[1 4 9]\n",
      "[1. 1. 1.]\n",
      "3.0\n"
     ]
    }
   ],
   "source": [
    "import numpy as np\n",
    "from math import inf\n",
    "#Defining a vector\n",
    "v1= array([1,2,3])\n",
    "v2= array([1,2,3])\n",
    "#vector addition\n",
    "a=v1+v2\n",
    "print(a)\n",
    "\n",
    "#vector Substraction\n",
    "a=v1-v2\n",
    "print(a)\n",
    "\n",
    "#vector Multiplication\n",
    "a=v1*v2\n",
    "print(a)\n",
    "\n",
    "#vector Division\n",
    "a=v1/v2\n",
    "print(a)\n",
    "\n",
    "#Calculating the dot product between vectors v1 and v2\n",
    "#v1[0]*v2[0]+v1[1]*v2[1]....v1[n]*v2[n]\n",
    "a=v1.dot(v2)\n",
    "a\n"
   ]
  },
  {
   "cell_type": "markdown",
   "metadata": {},
   "source": [
    "<h2 style=\"color:white;background:rgba(255,50,50,0.8);padding:10px;border-radius:10px;text-align:center;\"> Vector norms</h2>\n",
    "\n",
    "<h3>L1 Norm</h3>\n",
    "<p></p>\n",
    "\n",
    "<h3>L2 Norm</h3>\n",
    "<p></p>\n",
    "<h3>Max/Inf Norm</h3>\n",
    "<p></p>"
   ]
  },
  {
   "cell_type": "code",
   "execution_count": null,
   "metadata": {},
   "outputs": [],
   "source": [
    "\n",
    "l1=np.linalg.norm(v1)\n",
    "l1=np.linalg.norm(v1,1)\n",
    "l1=np.linalg.norm(v1,inf)\n",
    "print(l1)\n"
   ]
  }
 ],
 "metadata": {
  "kernelspec": {
   "display_name": "Python 3",
   "language": "python",
   "name": "python3"
  },
  "language_info": {
   "codemirror_mode": {
    "name": "ipython",
    "version": 3
   },
   "file_extension": ".py",
   "mimetype": "text/x-python",
   "name": "python",
   "nbconvert_exporter": "python",
   "pygments_lexer": "ipython3",
   "version": "3.7.2"
  }
 },
 "nbformat": 4,
 "nbformat_minor": 2
}
