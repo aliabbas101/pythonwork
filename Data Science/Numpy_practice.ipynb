{
 "cells": [
  {
   "cell_type": "markdown",
   "metadata": {},
   "source": [
    "<h1 style=\"color:white;background:rgba(255,50,50,0.8);padding:10px;border-radius:10px;text-align:center;\"> Vectors and Vector Arithmetic using numpy -<sub>By Ali Abbas</sub></h1>"
   ]
  },
  {
   "cell_type": "code",
   "execution_count": 5,
   "metadata": {},
   "outputs": [
    {
     "name": "stdout",
     "output_type": "stream",
     "text": [
      "[2 4 6]\n",
      "[0 0 0]\n",
      "[1 4 9]\n",
      "[1. 1. 1.]\n"
     ]
    },
    {
     "data": {
      "text/plain": [
       "14"
      ]
     },
     "execution_count": 5,
     "metadata": {},
     "output_type": "execute_result"
    }
   ],
   "source": [
    "import numpy as np\n",
    "from numpy import array\n",
    "from math import inf\n",
    "from math import sqrt\n",
    "#Defining a vector\n",
    "v1= array([1,2,3])\n",
    "v2= array([1,2,3])\n",
    "#vector addition\n",
    "a=v1+v2\n",
    "print(a)\n",
    "\n",
    "#vector Substraction\n",
    "a=v1-v2\n",
    "print(a)\n",
    "\n",
    "#vector Multiplication\n",
    "a=v1*v2\n",
    "print(a)\n",
    "\n",
    "#vector Division\n",
    "a=v1/v2\n",
    "print(a)\n",
    "\n",
    "#Calculating the dot product between vectors v1 and v2\n",
    "#v1[0]*v2[0]+v1[1]*v2[1]....v1[n]*v2[n]\n",
    "a=v1.dot(v2)\n",
    "a\n"
   ]
  },
  {
   "cell_type": "markdown",
   "metadata": {},
   "source": [
    "<h2 style=\"color:white;background:rgba(255,90,90,0.8);padding:10px;border-radius:10px;text-align:center;\"> Vector norms</h2>\n",
    "\n",
    "<h3>L1 Norm</h3>\n",
    "<p>The L\n",
    "1 norm is calculated as the sum of the absolute vector values, where the absolute value\n",
    "of a scalar uses the notation |a1|. In effect, the norm is a calculation of the Manhattan distance\n",
    "from the origin of the vector space.<br>\n",
    "||v||1 = |a1| + |a2| + |a3| \n",
    "</p>\n",
    "\n",
    "<h3>L2 Norm</h3>\n",
    "<p>\n",
    "    The L\n",
    "2 norm calculates the distance of the vector coordinate from the origin of the vector\n",
    "space. As such, it is also known as the Euclidean norm as it is calculated as the Euclidean\n",
    "distance from the origin. The result is a positive distance value. The L\n",
    "2 norm is calculated as\n",
    "the square root of the sum of the squared vector values.\n",
    "||v||2 = sqrt((a1**2)+a2**2+a3**2)\n",
    "</p>\n",
    "<h3>Max/Inf Norm</h3>\n",
    "<p>\n",
    "\n",
    "The max norm is calculated as returning the maximum value of the vector, hence the name.\n",
    "||v||inf = max a1, a2, a3 \n",
    "</p>"
   ]
  },
  {
   "cell_type": "code",
   "execution_count": 9,
   "metadata": {},
   "outputs": [
    {
     "name": "stdout",
     "output_type": "stream",
     "text": [
      "6.0|  3.7416573867739413|  3.0\n",
      "6\n",
      "3\n"
     ]
    },
    {
     "data": {
      "text/plain": [
       "14"
      ]
     },
     "execution_count": 9,
     "metadata": {},
     "output_type": "execute_result"
    }
   ],
   "source": [
    "#L2 Norm in NUMPY\n",
    "l2=np.linalg.norm(v1)\n",
    "#L1 Norm in NUMPY\n",
    "l1=np.linalg.norm(v1,1)\n",
    "#Max/inf Norm in NUMPY\n",
    "maxn=np.linalg.norm(v1,inf)\n",
    "print(str(l1)+\"|  \"+str(l2)+\"|  \"+str(maxn))\n",
    "\n",
    "#Implementing each operation manually\n",
    "#let v be a vector\n",
    "v=[[1,2,3]]\n",
    "#L1 norm\n",
    "print(sum(v[0]))\n",
    "#max norm\n",
    "print(max(v[0]))\n",
    "#l2 norm\n",
    "\n",
    "\n",
    "def dot(v,w):\n",
    "    return sum(vi*wi for vi,wi in zip(v,w))\n",
    "\n",
    "dot(v1,v2)\n"
   ]
  }
 ],
 "metadata": {
  "kernelspec": {
   "display_name": "Python 3",
   "language": "python",
   "name": "python3"
  },
  "language_info": {
   "codemirror_mode": {
    "name": "ipython",
    "version": 3
   },
   "file_extension": ".py",
   "mimetype": "text/x-python",
   "name": "python",
   "nbconvert_exporter": "python",
   "pygments_lexer": "ipython3",
   "version": "3.7.2"
  }
 },
 "nbformat": 4,
 "nbformat_minor": 2
}
