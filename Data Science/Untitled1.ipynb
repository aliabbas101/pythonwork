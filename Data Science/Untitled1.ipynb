{
 "cells": [
  {
   "cell_type": "code",
   "execution_count": 3,
   "metadata": {},
   "outputs": [
    {
     "name": "stdout",
     "output_type": "stream",
     "text": [
      "2 1000\n",
      "3 100 500 800 999\n",
      "1000 1 2 3 4 5\n"
     ]
    }
   ],
   "source": [
    "if __name__ == '__main__':\n",
    "    a,b=map(int,input().split())\n",
    "    list1=[0] * a\n",
    "    maxarr=[]\n",
    "    list1=[list(map(int,input().split()))[1:] for i in range(a)]"
   ]
  },
  {
   "cell_type": "code",
   "execution_count": 3,
   "metadata": {},
   "outputs": [
    {
     "name": "stdout",
     "output_type": "stream",
     "text": [
      "3 998\n",
      "6 67828645 425092764 242723908 669696211 501122842 438815206\n",
      "4 625649397 295060482 262686951 815352670\n",
      "3 100876777 196900030 523615865\n",
      "974\n"
     ]
    }
   ],
   "source": [
    "## 3 998\n",
    "#6 67828645 425092764 242723908 669696211 501122842 438815206\n",
    "#4 625649397 295060482 262686951 815352670\n",
    "#3 100876777 196900030 523615865\n",
    "\n",
    "from itertools import product\n",
    "\n",
    "K,M = map(int,input().split())\n",
    "N = (list(map(int, input().split()))[1:] for _ in range(K))\n",
    "results = map(lambda x: sum(i**2 for i in x)%M, product(*N))\n",
    "print(max(results))"
   ]
  },
  {
   "cell_type": "code",
   "execution_count": null,
   "metadata": {},
   "outputs": [],
   "source": [
    "n=int(input())\n",
    "list1=[]\n",
    "for i in range(n):\n",
    "    list1.append(input())\n",
    "for i in list1:\n",
    "    try:\n",
    "        if a==0:\n",
    "            print(\"False\")\n",
    "        else:\n",
    "            a=float(i)\n",
    "            print(\"True\")\n",
    "    except ValueError:\n",
    "        print(\"False\")"
   ]
  }
 ],
 "metadata": {
  "kernelspec": {
   "display_name": "Python 3",
   "language": "python",
   "name": "python3"
  },
  "language_info": {
   "codemirror_mode": {
    "name": "ipython",
    "version": 3
   },
   "file_extension": ".py",
   "mimetype": "text/x-python",
   "name": "python",
   "nbconvert_exporter": "python",
   "pygments_lexer": "ipython3",
   "version": "3.7.2"
  }
 },
 "nbformat": 4,
 "nbformat_minor": 2
}
