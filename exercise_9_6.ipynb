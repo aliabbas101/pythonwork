{
 "cells": [
  {
   "cell_type": "code",
   "execution_count": 25,
   "metadata": {},
   "outputs": [],
   "source": [
    "#class implementation\n",
    "\n",
    "#class Dog():\n",
    " #   def __init__(self,name, age):\n",
    "  #      self.name=name\n",
    "  #      self.age=age\n",
    "  #  def sit(self):\n",
    "  #      print(self.name.title() + \" is now sitting.\")\n",
    "  #  def roll_over(self):\n",
    "  #      print(self.name.title()+ \" rolled over !\")\n",
    "    \n",
    "#exercise 9-6\n",
    "class Resturant():\n",
    "    all_res=[]\n",
    "    def __init__(self,name,all_res):\n",
    "        self.name=name\n",
    "        self.all_res=all_res\n",
    "    def describe_resturant(self):\n",
    "        print(\"Welcome to our resturant: \"+self.name)\n",
    "        print(\"We have following resturants: \")\n",
    "        for resturant in self.all_res:\n",
    "            print(\"Available: \"+resturant)\n",
    "    def open_resturant(self):\n",
    "        print(\"The resturant \"+self.name+ \"is now open\")\n",
    "        \n",
    "class Icecream(Resturant):\n",
    "    flavors=[]\n",
    "    def __init__(self,name,c_type,flavors):\n",
    "        self.flavors=flavors\n",
    "        super().__init__(name,c_type)\n",
    "    def show_flavors(self):\n",
    "        print(\"We have following flavors available: \")\n",
    "        for flavor in self.flavors:\n",
    "            print(\"Available: \"+flavor)"
   ]
  },
  {
   "cell_type": "code",
   "execution_count": 26,
   "metadata": {},
   "outputs": [
    {
     "name": "stdout",
     "output_type": "stream",
     "text": [
      "Welcome to our resturant: Icecream Planet\n",
      "We have following resturants: \n",
      "Available: paratha\n",
      "Available: pizza paratha\n",
      "Available: Chai(cut)\n",
      "Available: icecream\n",
      "We have following flavors available: \n",
      "Available: strawberry\n",
      "Available: chocalate\n",
      "Available: Oreo\n",
      "Available: mango\n"
     ]
    }
   ],
   "source": [
    "#my_dog= Dog('willie',6)\n",
    "#print(\"My dog's name is \"+my_dog.name+\".\")\n",
    "#my_dog.sit()\n",
    "#my_dog.roll_over()\n",
    "#print(\"My dog is \"+ str(my_dog.age))\n",
    "#9-6\n",
    "newres= Icecream(\"Icecream Planet\",[\"paratha\",\"pizza paratha\",\"Chai(cut)\",\"icecream\"],[\"strawberry\",\"chocalate\",\"Oreo\",\"mango\"])\n",
    "newres.describe_resturant()\n",
    "newres.show_flavors()"
   ]
  },
  {
   "cell_type": "code",
   "execution_count": null,
   "metadata": {},
   "outputs": [],
   "source": []
  }
 ],
 "metadata": {
  "kernelspec": {
   "display_name": "Python 3",
   "language": "python",
   "name": "python3"
  },
  "language_info": {
   "codemirror_mode": {
    "name": "ipython",
    "version": 3
   },
   "file_extension": ".py",
   "mimetype": "text/x-python",
   "name": "python",
   "nbconvert_exporter": "python",
   "pygments_lexer": "ipython3",
   "version": "3.7.0"
  }
 },
 "nbformat": 4,
 "nbformat_minor": 2
}
